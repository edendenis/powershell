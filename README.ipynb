{
 "cells": [
  {
   "cell_type": "markdown",
   "metadata": {},
   "source": [
    "# Como configurar/instalar o `powersheel` no `Linux Ubuntu`\n",
    "\n",
    "## Resumo\n",
    "\n",
    "Neste documento estão contidos os principais comandos e configurações para configurar/instalar o `powersheel` no `Linux Ubuntu`.\n",
    "\n",
    "## _Abstract_\n",
    "\n",
    "_In this document are contained the main commands and settings to set up/install the `powershell` on `Linux Ubuntu`._"
   ]
  },
  {
   "cell_type": "markdown",
   "metadata": {},
   "source": [
    "## Descrição [2]\n",
    "\n",
    "### `powershell`\n",
    "\n",
    "O PowerShell é uma poderosa linguagem de script e ambiente de automação desenvolvida pela Microsoft, projetada para simplificar a administração e a automação de tarefas em sistemas Windows e ambientes de rede. Ele fornece uma interface de linha de comando interativa que permite aos usuários executar comandos e escrever scripts para realizar uma ampla gama de tarefas, desde gerenciamento de arquivos e configuração de sistema até administração de servidores. O PowerShell se destaca pela ênfase na manipulação de objetos, permitindo que os resultados dos comandos sejam tratados como objetos que podem ser facilmente processados e encadeados. Além disso, ele oferece acesso a uma vasta biblioteca de módulos e cmdlets (comandos) que facilitam a automação de tarefas específicas. O PowerShell é uma ferramenta essencial para administradores de sistemas e profissionais de TI que desejam simplificar e agilizar suas operações de gerenciamento de sistemas Windows.\n"
   ]
  },
  {
   "cell_type": "markdown",
   "metadata": {},
   "source": [
    "## 1. Como configurar/instalar o `powershell` no `Linux Ubuntu` [1][3]\n",
    "\n",
    "Para configurar/instalar o `powershell` no `Linux Ubuntu`, você pode seguir estes passos:\n",
    "\n",
    "1. Abra o `Terminal Emulator`. Você pode fazer isso pressionando: `Ctrl + Alt + T`    "
   ]
  },
  {
   "cell_type": "markdown",
   "metadata": {},
   "source": [
    "2. Certifique-se de que seu sistema esteja limpo e atualizado.\n",
    "\n",
    "    2.1 Limpar o `cache` do gerenciador de pacotes `apt`. Especificamente, ele remove todos os arquivos de pacotes (`.deb`) baixados pelo `apt` e armazenados em `/var/cache/apt/archives/`. Digite o seguinte comando: `sudo apt clean` \n",
    "    \n",
    "    2.2 Remover pacotes `.deb` antigos ou duplicados do cache local. É útil para liberar espaço, pois remove apenas os pacotes que não podem mais ser baixados (ou seja, versões antigas de pacotes que foram atualizados). Digite o seguinte comando: `sudo apt autoclean`\n",
    "\n",
    "    2.3 Remover pacotes que foram automaticamente instalados para satisfazer as dependências de outros pacotes e que não são mais necessários. Digite o seguinte comando: `sudo apt autoremove -y`\n",
    "\n",
    "    2.4 Buscar as atualizações disponíveis para os pacotes que estão instalados em seu sistema. Digite o seguinte comando e pressione `Enter`: `sudo apt update`\n",
    "\n",
    "    2.5 **Corrigir pacotes quebrados**: Isso atualizará a lista de pacotes disponíveis e tentará corrigir pacotes quebrados ou com dependências ausentes: `sudo apt --fix-broken install`\n",
    "\n",
    "    2.6 Limpar o `cache` do gerenciador de pacotes `apt`. Especificamente, ele remove todos os arquivos de pacotes (`.deb`) baixados pelo `apt` e armazenados em `/var/cache/apt/archives/`. Digite o seguinte comando: `sudo apt clean` \n",
    "    \n",
    "    2.7 Para ver a lista de pacotes a serem atualizados, digite o seguinte comando e pressione `Enter`:  `sudo apt list --upgradable`\n",
    "\n",
    "    2.8 Realmente atualizar os pacotes instalados para as suas versões mais recentes, com base na última vez que você executou `sudo apt update`. Digite o seguinte comando e pressione `Enter`: `sudo apt full-upgrade -y`\n",
    "    "
   ]
  },
  {
   "cell_type": "markdown",
   "metadata": {},
   "source": [
    "3. Para instalar o `PowerShell` no `Linux Ubuntu`, você pode usar os seguintes comandos:\n",
    "\n",
    "4. **Digite o comando de instalação do `PowerShell` usando o `Snap`:** `sudo snap install powershell --classic`\n",
    "\n",
    "    Este comando solicitará a sua senha de usuário do `Linux Ubuntu` para conceder permissões de administrador (root) necessárias para instalar software.\n",
    "\n",
    "3. O parâmetro `--classic` permite a instalação de um pacote `snap` que requer acesso completo ao sistema, sem as restrições habituais aplicadas aos snaps. Isso é necessário para o `PowerShell` devido à sua natureza de ferramenta de administração.\n",
    "\n",
    "4. O sistema irá baixar e instalar o `PowerShell`. Esse processo pode levar alguns minutos, dependendo da sua conexão com a internet.\n",
    "\n",
    "5. Uma vez concluída a instalação, você pode iniciar o `PowerShell` digitando no seu terminal: `pwsh` \n",
    "\n",
    "    Isso abrirá o shell do `PowerShell`, onde você pode começar a executar comandos do `PowerShell`.\n",
    "\n",
    "É assim que você instala o `PowerShell` no Ubuntu usando o `Snap`. A vantagem de usar o `Snap` é que ele mantém o _software_ instalado automaticamente atualizado para a última versão estável.\n"
   ]
  },
  {
   "cell_type": "markdown",
   "metadata": {
    "vscode": {
     "languageId": "plaintext"
    }
   },
   "source": [
    "### 1.1 Código completo para configurar/instalar/usar\n",
    "\n",
    "Para configurar/instalar o `PowerShell` no `Linux Ubuntu` sem precisar digitar linha por linha, você pode seguir estas etapas:\n",
    "\n",
    "1. Abra o `Terminal Emulator`. Você pode fazer isso pressionando: `Ctrl + Alt + T`\n",
    "\n",
    "2. Digite o seguinte comando e pressione `Enter`:\n",
    "\n",
    "    ```\n",
    "    sudo apt clean                                                            \n",
    "    sudo apt autoclean\n",
    "    sudo apt autoremove -y\n",
    "    sudo apt update\n",
    "    sudo apt --fix-broken install\n",
    "    sudo apt clean\n",
    "    sudo apt list --upgradable\n",
    "    sudo apt full-upgrade -y\n",
    "    sudo snap install powershell --classic\n",
    "    pwsh\n",
    "    ```\n"
   ]
  },
  {
   "cell_type": "markdown",
   "metadata": {
    "vscode": {
     "languageId": "plaintext"
    }
   },
   "source": [
    "## Referências\n",
    "\n",
    "[1] OPENAI. ***Instalar o powershell no linux ubuntu.*** Disponível em: <https://chat.openai.com/c/27d692b7-1d9e-4884-b9cb-d66639f1520c> (texto adaptado). ChatGPT. Acessado em: 14/12/2023 08:51.\n",
    "\n",
    "[2] OPENAI. ***Vs code: editor popular.*** Disponível em: <https://chat.openai.com/c/b640a25d-f8e3-4922-8a3b-ed74a2657e42> (texto adaptado). ChatGPT. Acessado em: 14/12/2023 08:51.\n",
    "\n",
    "[3] OPENAI. ***Comandos de manutenção do ubuntu.*** Disponível em: <https://chat.openai.com/c/4a8cfaa2-30d6-474d-821f-7047a6a39830> (texto adaptado). ChatGPT. Acessado em: 15/12/2023 08:25.\n"
   ]
  }
 ],
 "metadata": {
  "kernelspec": {
   "display_name": "Python 3",
   "language": "python",
   "name": "python3"
  },
  "language_info": {
   "codemirror_mode": {
    "name": "ipython",
    "version": 3
   },
   "file_extension": ".py",
   "mimetype": "text/x-python",
   "name": "python",
   "nbconvert_exporter": "python",
   "pygments_lexer": "ipython3",
   "version": "3.11.5"
  },
  "orig_nbformat": 4
 },
 "nbformat": 4,
 "nbformat_minor": 2
}
